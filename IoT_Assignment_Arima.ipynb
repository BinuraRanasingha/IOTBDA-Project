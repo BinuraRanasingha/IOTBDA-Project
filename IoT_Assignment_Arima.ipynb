{
 "cells": [
  {
   "cell_type": "code",
   "execution_count": 45,
   "id": "33717dd3",
   "metadata": {},
   "outputs": [],
   "source": [
    "#Loading the necessary libraries\n",
    "import pandas as pd\n",
    "import numpy as np\n",
    "import matplotlib.pyplot as plt\n",
    "from statsmodels.tsa.arima.model import ARIMA\n",
    "from statsmodels.tsa.stattools import adfuller\n",
    "from sklearn.preprocessing import StandardScaler, LabelEncoder\n",
    "from sklearn.model_selection import train_test_split\n",
    "from sklearn.metrics import mean_squared_error, r2_score\n",
    "from statsmodels.graphics.tsaplots import plot_acf, plot_pacf\n",
    "import statsmodels.api as sm\n",
    "from statsmodels.stats.diagnostic import acorr_ljungbox\n",
    "from sklearn.linear_model import LinearRegression\n",
    "import pmdarima as pm\n",
    "#from pmdarima.model_selection import train_test_split\n",
    "from scipy.stats import shapiro\n",
    "from statsmodels.stats.diagnostic import het_breuschpagan\n",
    "from statsmodels.tsa.seasonal import seasonal_decompose\n",
    "from statsmodels.tools.eval_measures import rmse"
   ]
  },
  {
   "cell_type": "code",
   "execution_count": 46,
   "id": "9bc8f14e",
   "metadata": {},
   "outputs": [],
   "source": [
    "#Loading the dataset\n",
    "df = pd.read_csv('C:\\\\Users\\\\binur\\\\Desktop\\\\IT4021_IoTBDA_Assignment\\\\colombo_rh_2012-2018.csv')"
   ]
  },
  {
   "cell_type": "code",
   "execution_count": 47,
   "id": "6d0a3360",
   "metadata": {},
   "outputs": [
    {
     "data": {
      "text/html": [
       "<div>\n",
       "<style scoped>\n",
       "    .dataframe tbody tr th:only-of-type {\n",
       "        vertical-align: middle;\n",
       "    }\n",
       "\n",
       "    .dataframe tbody tr th {\n",
       "        vertical-align: top;\n",
       "    }\n",
       "\n",
       "    .dataframe thead th {\n",
       "        text-align: right;\n",
       "    }\n",
       "</style>\n",
       "<table border=\"1\" class=\"dataframe\">\n",
       "  <thead>\n",
       "    <tr style=\"text-align: right;\">\n",
       "      <th></th>\n",
       "      <th>station_id</th>\n",
       "      <th>station_name</th>\n",
       "      <th>element_name</th>\n",
       "      <th>year</th>\n",
       "      <th>month</th>\n",
       "      <th>day</th>\n",
       "      <th>obs_val</th>\n",
       "    </tr>\n",
       "  </thead>\n",
       "  <tbody>\n",
       "    <tr>\n",
       "      <th>0</th>\n",
       "      <td>43466</td>\n",
       "      <td>COLOMBO</td>\n",
       "      <td>RHMAX</td>\n",
       "      <td>2012</td>\n",
       "      <td>1</td>\n",
       "      <td>1</td>\n",
       "      <td>91.0</td>\n",
       "    </tr>\n",
       "    <tr>\n",
       "      <th>1</th>\n",
       "      <td>43466</td>\n",
       "      <td>COLOMBO</td>\n",
       "      <td>RHMAX</td>\n",
       "      <td>2012</td>\n",
       "      <td>1</td>\n",
       "      <td>2</td>\n",
       "      <td>90.0</td>\n",
       "    </tr>\n",
       "    <tr>\n",
       "      <th>2</th>\n",
       "      <td>43466</td>\n",
       "      <td>COLOMBO</td>\n",
       "      <td>RHMAX</td>\n",
       "      <td>2012</td>\n",
       "      <td>1</td>\n",
       "      <td>3</td>\n",
       "      <td>89.0</td>\n",
       "    </tr>\n",
       "    <tr>\n",
       "      <th>3</th>\n",
       "      <td>43466</td>\n",
       "      <td>COLOMBO</td>\n",
       "      <td>RHMAX</td>\n",
       "      <td>2012</td>\n",
       "      <td>1</td>\n",
       "      <td>4</td>\n",
       "      <td>89.0</td>\n",
       "    </tr>\n",
       "    <tr>\n",
       "      <th>4</th>\n",
       "      <td>43466</td>\n",
       "      <td>COLOMBO</td>\n",
       "      <td>RHMAX</td>\n",
       "      <td>2012</td>\n",
       "      <td>1</td>\n",
       "      <td>5</td>\n",
       "      <td>95.0</td>\n",
       "    </tr>\n",
       "    <tr>\n",
       "      <th>5</th>\n",
       "      <td>43466</td>\n",
       "      <td>COLOMBO</td>\n",
       "      <td>RHMAX</td>\n",
       "      <td>2012</td>\n",
       "      <td>1</td>\n",
       "      <td>6</td>\n",
       "      <td>93.0</td>\n",
       "    </tr>\n",
       "    <tr>\n",
       "      <th>6</th>\n",
       "      <td>43466</td>\n",
       "      <td>COLOMBO</td>\n",
       "      <td>RHMAX</td>\n",
       "      <td>2012</td>\n",
       "      <td>1</td>\n",
       "      <td>7</td>\n",
       "      <td>96.0</td>\n",
       "    </tr>\n",
       "    <tr>\n",
       "      <th>7</th>\n",
       "      <td>43466</td>\n",
       "      <td>COLOMBO</td>\n",
       "      <td>RHMAX</td>\n",
       "      <td>2012</td>\n",
       "      <td>1</td>\n",
       "      <td>8</td>\n",
       "      <td>96.0</td>\n",
       "    </tr>\n",
       "    <tr>\n",
       "      <th>8</th>\n",
       "      <td>43466</td>\n",
       "      <td>COLOMBO</td>\n",
       "      <td>RHMAX</td>\n",
       "      <td>2012</td>\n",
       "      <td>1</td>\n",
       "      <td>9</td>\n",
       "      <td>98.0</td>\n",
       "    </tr>\n",
       "    <tr>\n",
       "      <th>9</th>\n",
       "      <td>43466</td>\n",
       "      <td>COLOMBO</td>\n",
       "      <td>RHMAX</td>\n",
       "      <td>2012</td>\n",
       "      <td>1</td>\n",
       "      <td>10</td>\n",
       "      <td>93.0</td>\n",
       "    </tr>\n",
       "  </tbody>\n",
       "</table>\n",
       "</div>"
      ],
      "text/plain": [
       "   station_id station_name element_name  year  month  day  obs_val\n",
       "0       43466      COLOMBO        RHMAX  2012      1    1     91.0\n",
       "1       43466      COLOMBO        RHMAX  2012      1    2     90.0\n",
       "2       43466      COLOMBO        RHMAX  2012      1    3     89.0\n",
       "3       43466      COLOMBO        RHMAX  2012      1    4     89.0\n",
       "4       43466      COLOMBO        RHMAX  2012      1    5     95.0\n",
       "5       43466      COLOMBO        RHMAX  2012      1    6     93.0\n",
       "6       43466      COLOMBO        RHMAX  2012      1    7     96.0\n",
       "7       43466      COLOMBO        RHMAX  2012      1    8     96.0\n",
       "8       43466      COLOMBO        RHMAX  2012      1    9     98.0\n",
       "9       43466      COLOMBO        RHMAX  2012      1   10     93.0"
      ]
     },
     "execution_count": 47,
     "metadata": {},
     "output_type": "execute_result"
    }
   ],
   "source": [
    "df.head(10)"
   ]
  },
  {
   "cell_type": "code",
   "execution_count": 48,
   "id": "629ab860",
   "metadata": {},
   "outputs": [
    {
     "data": {
      "text/html": [
       "<div>\n",
       "<style scoped>\n",
       "    .dataframe tbody tr th:only-of-type {\n",
       "        vertical-align: middle;\n",
       "    }\n",
       "\n",
       "    .dataframe tbody tr th {\n",
       "        vertical-align: top;\n",
       "    }\n",
       "\n",
       "    .dataframe thead th {\n",
       "        text-align: right;\n",
       "    }\n",
       "</style>\n",
       "<table border=\"1\" class=\"dataframe\">\n",
       "  <thead>\n",
       "    <tr style=\"text-align: right;\">\n",
       "      <th></th>\n",
       "      <th>element_name</th>\n",
       "      <th>year</th>\n",
       "      <th>month</th>\n",
       "      <th>day</th>\n",
       "      <th>obs_val</th>\n",
       "    </tr>\n",
       "  </thead>\n",
       "  <tbody>\n",
       "    <tr>\n",
       "      <th>0</th>\n",
       "      <td>RHMAX</td>\n",
       "      <td>2012</td>\n",
       "      <td>1</td>\n",
       "      <td>1</td>\n",
       "      <td>91.0</td>\n",
       "    </tr>\n",
       "    <tr>\n",
       "      <th>1</th>\n",
       "      <td>RHMAX</td>\n",
       "      <td>2012</td>\n",
       "      <td>1</td>\n",
       "      <td>2</td>\n",
       "      <td>90.0</td>\n",
       "    </tr>\n",
       "    <tr>\n",
       "      <th>2</th>\n",
       "      <td>RHMAX</td>\n",
       "      <td>2012</td>\n",
       "      <td>1</td>\n",
       "      <td>3</td>\n",
       "      <td>89.0</td>\n",
       "    </tr>\n",
       "    <tr>\n",
       "      <th>3</th>\n",
       "      <td>RHMAX</td>\n",
       "      <td>2012</td>\n",
       "      <td>1</td>\n",
       "      <td>4</td>\n",
       "      <td>89.0</td>\n",
       "    </tr>\n",
       "    <tr>\n",
       "      <th>4</th>\n",
       "      <td>RHMAX</td>\n",
       "      <td>2012</td>\n",
       "      <td>1</td>\n",
       "      <td>5</td>\n",
       "      <td>95.0</td>\n",
       "    </tr>\n",
       "    <tr>\n",
       "      <th>...</th>\n",
       "      <td>...</td>\n",
       "      <td>...</td>\n",
       "      <td>...</td>\n",
       "      <td>...</td>\n",
       "      <td>...</td>\n",
       "    </tr>\n",
       "    <tr>\n",
       "      <th>4398</th>\n",
       "      <td>RHMAX</td>\n",
       "      <td>2018</td>\n",
       "      <td>12</td>\n",
       "      <td>27</td>\n",
       "      <td>90.0</td>\n",
       "    </tr>\n",
       "    <tr>\n",
       "      <th>4399</th>\n",
       "      <td>RHMAX</td>\n",
       "      <td>2018</td>\n",
       "      <td>12</td>\n",
       "      <td>28</td>\n",
       "      <td>88.0</td>\n",
       "    </tr>\n",
       "    <tr>\n",
       "      <th>4400</th>\n",
       "      <td>RHMAX</td>\n",
       "      <td>2018</td>\n",
       "      <td>12</td>\n",
       "      <td>29</td>\n",
       "      <td>76.0</td>\n",
       "    </tr>\n",
       "    <tr>\n",
       "      <th>4401</th>\n",
       "      <td>RHMAX</td>\n",
       "      <td>2018</td>\n",
       "      <td>12</td>\n",
       "      <td>30</td>\n",
       "      <td>81.0</td>\n",
       "    </tr>\n",
       "    <tr>\n",
       "      <th>4402</th>\n",
       "      <td>RHMAX</td>\n",
       "      <td>2018</td>\n",
       "      <td>12</td>\n",
       "      <td>31</td>\n",
       "      <td>82.0</td>\n",
       "    </tr>\n",
       "  </tbody>\n",
       "</table>\n",
       "<p>4403 rows × 5 columns</p>\n",
       "</div>"
      ],
      "text/plain": [
       "     element_name  year  month  day  obs_val\n",
       "0           RHMAX  2012      1    1     91.0\n",
       "1           RHMAX  2012      1    2     90.0\n",
       "2           RHMAX  2012      1    3     89.0\n",
       "3           RHMAX  2012      1    4     89.0\n",
       "4           RHMAX  2012      1    5     95.0\n",
       "...           ...   ...    ...  ...      ...\n",
       "4398        RHMAX  2018     12   27     90.0\n",
       "4399        RHMAX  2018     12   28     88.0\n",
       "4400        RHMAX  2018     12   29     76.0\n",
       "4401        RHMAX  2018     12   30     81.0\n",
       "4402        RHMAX  2018     12   31     82.0\n",
       "\n",
       "[4403 rows x 5 columns]"
      ]
     },
     "execution_count": 48,
     "metadata": {},
     "output_type": "execute_result"
    }
   ],
   "source": [
    "#Removing unused columns\n",
    "df.drop(['station_id','station_name'],axis=1,inplace=True)\n",
    "df"
   ]
  },
  {
   "cell_type": "code",
   "execution_count": 49,
   "id": "5b4f8a0e",
   "metadata": {},
   "outputs": [
    {
     "data": {
      "text/plain": [
       "element_name     0\n",
       "year             0\n",
       "month            0\n",
       "day              0\n",
       "obs_val         20\n",
       "dtype: int64"
      ]
     },
     "execution_count": 49,
     "metadata": {},
     "output_type": "execute_result"
    }
   ],
   "source": [
    "#Exploring the dataset\n",
    "df.isnull().sum()"
   ]
  },
  {
   "cell_type": "markdown",
   "id": "007b2e8e",
   "metadata": {},
   "source": [
    "* There are 20 null values in the obs_val column."
   ]
  },
  {
   "cell_type": "code",
   "execution_count": 50,
   "id": "0ccb13c6",
   "metadata": {},
   "outputs": [
    {
     "name": "stdout",
     "output_type": "stream",
     "text": [
      "     element_name  year  month  day  obs_val\n",
      "60          RHMAX  2012      2   30      NaN\n",
      "61          RHMAX  2012      2   31      NaN\n",
      "123         RHMAX  2012      4   31      NaN\n",
      "185         RHMAX  2012      6   31      NaN\n",
      "278         RHMAX  2012      9   31      NaN\n",
      "340         RHMAX  2012     11   31      NaN\n",
      "431         RHMAX  2013      2   29      NaN\n",
      "432         RHMAX  2013      2   30      NaN\n",
      "433         RHMAX  2013      2   31      NaN\n",
      "495         RHMAX  2013      4   31      NaN\n",
      "557         RHMAX  2013      6   31      NaN\n",
      "650         RHMAX  2013      9   31      NaN\n",
      "712         RHMAX  2013     11   31      NaN\n",
      "803         RHMAX  2014      2   29      NaN\n",
      "804         RHMAX  2014      2   30      NaN\n",
      "805         RHMAX  2014      2   31      NaN\n",
      "867         RHMAX  2014      4   31      NaN\n",
      "929         RHMAX  2014      6   31      NaN\n",
      "1022        RHMAX  2014      9   31      NaN\n",
      "1084        RHMAX  2014     11   31      NaN\n"
     ]
    }
   ],
   "source": [
    "null_rows = df[df.isnull().any(axis=1)]\n",
    "print(null_rows)"
   ]
  },
  {
   "cell_type": "markdown",
   "id": "4fbc3b7b",
   "metadata": {},
   "source": [
    "* As we can see here the obs_val column has NaN values for rows that has an invalid day for a given month like Februray 30 so dropping those columns will be the best thing to do since they have no meaning in them."
   ]
  },
  {
   "cell_type": "code",
   "execution_count": 51,
   "id": "5cc63641",
   "metadata": {},
   "outputs": [
    {
     "name": "stdout",
     "output_type": "stream",
     "text": [
      "     element_name  year  month  day  obs_val\n",
      "0           RHMAX  2012      1    1     91.0\n",
      "1           RHMAX  2012      1    2     90.0\n",
      "2           RHMAX  2012      1    3     89.0\n",
      "3           RHMAX  2012      1    4     89.0\n",
      "4           RHMAX  2012      1    5     95.0\n",
      "...           ...   ...    ...  ...      ...\n",
      "4398        RHMAX  2018     12   27     90.0\n",
      "4399        RHMAX  2018     12   28     88.0\n",
      "4400        RHMAX  2018     12   29     76.0\n",
      "4401        RHMAX  2018     12   30     81.0\n",
      "4402        RHMAX  2018     12   31     82.0\n",
      "\n",
      "[4383 rows x 5 columns]\n"
     ]
    }
   ],
   "source": [
    "#Dropping rows with NULL values\n",
    "df.dropna(axis=0,inplace=True)\n",
    "print(df)"
   ]
  },
  {
   "cell_type": "code",
   "execution_count": 52,
   "id": "c15c15d5",
   "metadata": {},
   "outputs": [
    {
     "data": {
      "text/plain": [
       "element_name    0\n",
       "year            0\n",
       "month           0\n",
       "day             0\n",
       "obs_val         0\n",
       "dtype: int64"
      ]
     },
     "execution_count": 52,
     "metadata": {},
     "output_type": "execute_result"
    }
   ],
   "source": [
    "df.isnull().sum()"
   ]
  },
  {
   "cell_type": "code",
   "execution_count": 53,
   "id": "42513c9a",
   "metadata": {},
   "outputs": [
    {
     "data": {
      "text/html": [
       "<div>\n",
       "<style scoped>\n",
       "    .dataframe tbody tr th:only-of-type {\n",
       "        vertical-align: middle;\n",
       "    }\n",
       "\n",
       "    .dataframe tbody tr th {\n",
       "        vertical-align: top;\n",
       "    }\n",
       "\n",
       "    .dataframe thead th {\n",
       "        text-align: right;\n",
       "    }\n",
       "</style>\n",
       "<table border=\"1\" class=\"dataframe\">\n",
       "  <thead>\n",
       "    <tr style=\"text-align: right;\">\n",
       "      <th></th>\n",
       "      <th>element_name</th>\n",
       "      <th>year</th>\n",
       "      <th>month</th>\n",
       "      <th>day</th>\n",
       "      <th>obs_val</th>\n",
       "      <th>date</th>\n",
       "    </tr>\n",
       "  </thead>\n",
       "  <tbody>\n",
       "    <tr>\n",
       "      <th>0</th>\n",
       "      <td>RHMAX</td>\n",
       "      <td>2012</td>\n",
       "      <td>1</td>\n",
       "      <td>1</td>\n",
       "      <td>91.0</td>\n",
       "      <td>2012-01-01</td>\n",
       "    </tr>\n",
       "    <tr>\n",
       "      <th>1</th>\n",
       "      <td>RHMAX</td>\n",
       "      <td>2012</td>\n",
       "      <td>1</td>\n",
       "      <td>2</td>\n",
       "      <td>90.0</td>\n",
       "      <td>2012-01-02</td>\n",
       "    </tr>\n",
       "    <tr>\n",
       "      <th>2</th>\n",
       "      <td>RHMAX</td>\n",
       "      <td>2012</td>\n",
       "      <td>1</td>\n",
       "      <td>3</td>\n",
       "      <td>89.0</td>\n",
       "      <td>2012-01-03</td>\n",
       "    </tr>\n",
       "    <tr>\n",
       "      <th>3</th>\n",
       "      <td>RHMAX</td>\n",
       "      <td>2012</td>\n",
       "      <td>1</td>\n",
       "      <td>4</td>\n",
       "      <td>89.0</td>\n",
       "      <td>2012-01-04</td>\n",
       "    </tr>\n",
       "    <tr>\n",
       "      <th>4</th>\n",
       "      <td>RHMAX</td>\n",
       "      <td>2012</td>\n",
       "      <td>1</td>\n",
       "      <td>5</td>\n",
       "      <td>95.0</td>\n",
       "      <td>2012-01-05</td>\n",
       "    </tr>\n",
       "  </tbody>\n",
       "</table>\n",
       "</div>"
      ],
      "text/plain": [
       "  element_name  year  month  day  obs_val       date\n",
       "0        RHMAX  2012      1    1     91.0 2012-01-01\n",
       "1        RHMAX  2012      1    2     90.0 2012-01-02\n",
       "2        RHMAX  2012      1    3     89.0 2012-01-03\n",
       "3        RHMAX  2012      1    4     89.0 2012-01-04\n",
       "4        RHMAX  2012      1    5     95.0 2012-01-05"
      ]
     },
     "execution_count": 53,
     "metadata": {},
     "output_type": "execute_result"
    }
   ],
   "source": [
    "# Combining the year, month, and day columns into a single date column\n",
    "df['date'] = pd.to_datetime(df[['year','month','day']])\n",
    "df.head()"
   ]
  },
  {
   "cell_type": "code",
   "execution_count": 54,
   "id": "052eba3a",
   "metadata": {},
   "outputs": [
    {
     "data": {
      "text/plain": [
       "365"
      ]
     },
     "execution_count": 54,
     "metadata": {},
     "output_type": "execute_result"
    }
   ],
   "source": [
    "#Checking for duplicate rows\n",
    "df.duplicated().sum()"
   ]
  },
  {
   "cell_type": "code",
   "execution_count": 55,
   "id": "5359540f",
   "metadata": {},
   "outputs": [],
   "source": [
    "#Dropping the duplicate values\n",
    "df.drop_duplicates(inplace=True,keep='first')"
   ]
  },
  {
   "cell_type": "code",
   "execution_count": 56,
   "id": "5488900f",
   "metadata": {},
   "outputs": [
    {
     "data": {
      "text/plain": [
       "0"
      ]
     },
     "execution_count": 56,
     "metadata": {},
     "output_type": "execute_result"
    }
   ],
   "source": [
    "df.duplicated().sum()"
   ]
  },
  {
   "cell_type": "code",
   "execution_count": 57,
   "id": "1811f9c1",
   "metadata": {},
   "outputs": [
    {
     "data": {
      "text/html": [
       "<div>\n",
       "<style scoped>\n",
       "    .dataframe tbody tr th:only-of-type {\n",
       "        vertical-align: middle;\n",
       "    }\n",
       "\n",
       "    .dataframe tbody tr th {\n",
       "        vertical-align: top;\n",
       "    }\n",
       "\n",
       "    .dataframe thead th {\n",
       "        text-align: right;\n",
       "    }\n",
       "</style>\n",
       "<table border=\"1\" class=\"dataframe\">\n",
       "  <thead>\n",
       "    <tr style=\"text-align: right;\">\n",
       "      <th></th>\n",
       "      <th>element_name</th>\n",
       "      <th>year</th>\n",
       "      <th>month</th>\n",
       "      <th>day</th>\n",
       "      <th>obs_val</th>\n",
       "      <th>date</th>\n",
       "    </tr>\n",
       "  </thead>\n",
       "  <tbody>\n",
       "    <tr>\n",
       "      <th>0</th>\n",
       "      <td>RHMAX</td>\n",
       "      <td>2012</td>\n",
       "      <td>1</td>\n",
       "      <td>1</td>\n",
       "      <td>91.0</td>\n",
       "      <td>2012-01-01</td>\n",
       "    </tr>\n",
       "    <tr>\n",
       "      <th>1</th>\n",
       "      <td>RHMAX</td>\n",
       "      <td>2012</td>\n",
       "      <td>1</td>\n",
       "      <td>2</td>\n",
       "      <td>90.0</td>\n",
       "      <td>2012-01-02</td>\n",
       "    </tr>\n",
       "    <tr>\n",
       "      <th>2</th>\n",
       "      <td>RHMAX</td>\n",
       "      <td>2012</td>\n",
       "      <td>1</td>\n",
       "      <td>3</td>\n",
       "      <td>89.0</td>\n",
       "      <td>2012-01-03</td>\n",
       "    </tr>\n",
       "    <tr>\n",
       "      <th>3</th>\n",
       "      <td>RHMAX</td>\n",
       "      <td>2012</td>\n",
       "      <td>1</td>\n",
       "      <td>4</td>\n",
       "      <td>89.0</td>\n",
       "      <td>2012-01-04</td>\n",
       "    </tr>\n",
       "    <tr>\n",
       "      <th>4</th>\n",
       "      <td>RHMAX</td>\n",
       "      <td>2012</td>\n",
       "      <td>1</td>\n",
       "      <td>5</td>\n",
       "      <td>95.0</td>\n",
       "      <td>2012-01-05</td>\n",
       "    </tr>\n",
       "    <tr>\n",
       "      <th>...</th>\n",
       "      <td>...</td>\n",
       "      <td>...</td>\n",
       "      <td>...</td>\n",
       "      <td>...</td>\n",
       "      <td>...</td>\n",
       "      <td>...</td>\n",
       "    </tr>\n",
       "    <tr>\n",
       "      <th>4033</th>\n",
       "      <td>RHMIN</td>\n",
       "      <td>2018</td>\n",
       "      <td>12</td>\n",
       "      <td>27</td>\n",
       "      <td>76.0</td>\n",
       "      <td>2018-12-27</td>\n",
       "    </tr>\n",
       "    <tr>\n",
       "      <th>4034</th>\n",
       "      <td>RHMIN</td>\n",
       "      <td>2018</td>\n",
       "      <td>12</td>\n",
       "      <td>28</td>\n",
       "      <td>73.0</td>\n",
       "      <td>2018-12-28</td>\n",
       "    </tr>\n",
       "    <tr>\n",
       "      <th>4035</th>\n",
       "      <td>RHMIN</td>\n",
       "      <td>2018</td>\n",
       "      <td>12</td>\n",
       "      <td>29</td>\n",
       "      <td>68.0</td>\n",
       "      <td>2018-12-29</td>\n",
       "    </tr>\n",
       "    <tr>\n",
       "      <th>4036</th>\n",
       "      <td>RHMIN</td>\n",
       "      <td>2018</td>\n",
       "      <td>12</td>\n",
       "      <td>30</td>\n",
       "      <td>55.0</td>\n",
       "      <td>2018-12-30</td>\n",
       "    </tr>\n",
       "    <tr>\n",
       "      <th>4037</th>\n",
       "      <td>RHMIN</td>\n",
       "      <td>2018</td>\n",
       "      <td>12</td>\n",
       "      <td>31</td>\n",
       "      <td>67.0</td>\n",
       "      <td>2018-12-31</td>\n",
       "    </tr>\n",
       "  </tbody>\n",
       "</table>\n",
       "<p>4018 rows × 6 columns</p>\n",
       "</div>"
      ],
      "text/plain": [
       "     element_name  year  month  day  obs_val       date\n",
       "0           RHMAX  2012      1    1     91.0 2012-01-01\n",
       "1           RHMAX  2012      1    2     90.0 2012-01-02\n",
       "2           RHMAX  2012      1    3     89.0 2012-01-03\n",
       "3           RHMAX  2012      1    4     89.0 2012-01-04\n",
       "4           RHMAX  2012      1    5     95.0 2012-01-05\n",
       "...           ...   ...    ...  ...      ...        ...\n",
       "4033        RHMIN  2018     12   27     76.0 2018-12-27\n",
       "4034        RHMIN  2018     12   28     73.0 2018-12-28\n",
       "4035        RHMIN  2018     12   29     68.0 2018-12-29\n",
       "4036        RHMIN  2018     12   30     55.0 2018-12-30\n",
       "4037        RHMIN  2018     12   31     67.0 2018-12-31\n",
       "\n",
       "[4018 rows x 6 columns]"
      ]
     },
     "execution_count": 57,
     "metadata": {},
     "output_type": "execute_result"
    }
   ],
   "source": [
    "df"
   ]
  },
  {
   "cell_type": "code",
   "execution_count": 58,
   "id": "4115eb92",
   "metadata": {},
   "outputs": [
    {
     "data": {
      "text/html": [
       "<div>\n",
       "<style scoped>\n",
       "    .dataframe tbody tr th:only-of-type {\n",
       "        vertical-align: middle;\n",
       "    }\n",
       "\n",
       "    .dataframe tbody tr th {\n",
       "        vertical-align: top;\n",
       "    }\n",
       "\n",
       "    .dataframe thead th {\n",
       "        text-align: right;\n",
       "    }\n",
       "</style>\n",
       "<table border=\"1\" class=\"dataframe\">\n",
       "  <thead>\n",
       "    <tr style=\"text-align: right;\">\n",
       "      <th></th>\n",
       "      <th>element_name</th>\n",
       "      <th>obs_val</th>\n",
       "      <th>date</th>\n",
       "    </tr>\n",
       "  </thead>\n",
       "  <tbody>\n",
       "    <tr>\n",
       "      <th>0</th>\n",
       "      <td>RHMAX</td>\n",
       "      <td>91.0</td>\n",
       "      <td>2012-01-01</td>\n",
       "    </tr>\n",
       "    <tr>\n",
       "      <th>1</th>\n",
       "      <td>RHMAX</td>\n",
       "      <td>90.0</td>\n",
       "      <td>2012-01-02</td>\n",
       "    </tr>\n",
       "    <tr>\n",
       "      <th>2</th>\n",
       "      <td>RHMAX</td>\n",
       "      <td>89.0</td>\n",
       "      <td>2012-01-03</td>\n",
       "    </tr>\n",
       "    <tr>\n",
       "      <th>3</th>\n",
       "      <td>RHMAX</td>\n",
       "      <td>89.0</td>\n",
       "      <td>2012-01-04</td>\n",
       "    </tr>\n",
       "    <tr>\n",
       "      <th>4</th>\n",
       "      <td>RHMAX</td>\n",
       "      <td>95.0</td>\n",
       "      <td>2012-01-05</td>\n",
       "    </tr>\n",
       "    <tr>\n",
       "      <th>...</th>\n",
       "      <td>...</td>\n",
       "      <td>...</td>\n",
       "      <td>...</td>\n",
       "    </tr>\n",
       "    <tr>\n",
       "      <th>4033</th>\n",
       "      <td>RHMIN</td>\n",
       "      <td>76.0</td>\n",
       "      <td>2018-12-27</td>\n",
       "    </tr>\n",
       "    <tr>\n",
       "      <th>4034</th>\n",
       "      <td>RHMIN</td>\n",
       "      <td>73.0</td>\n",
       "      <td>2018-12-28</td>\n",
       "    </tr>\n",
       "    <tr>\n",
       "      <th>4035</th>\n",
       "      <td>RHMIN</td>\n",
       "      <td>68.0</td>\n",
       "      <td>2018-12-29</td>\n",
       "    </tr>\n",
       "    <tr>\n",
       "      <th>4036</th>\n",
       "      <td>RHMIN</td>\n",
       "      <td>55.0</td>\n",
       "      <td>2018-12-30</td>\n",
       "    </tr>\n",
       "    <tr>\n",
       "      <th>4037</th>\n",
       "      <td>RHMIN</td>\n",
       "      <td>67.0</td>\n",
       "      <td>2018-12-31</td>\n",
       "    </tr>\n",
       "  </tbody>\n",
       "</table>\n",
       "<p>4018 rows × 3 columns</p>\n",
       "</div>"
      ],
      "text/plain": [
       "     element_name  obs_val       date\n",
       "0           RHMAX     91.0 2012-01-01\n",
       "1           RHMAX     90.0 2012-01-02\n",
       "2           RHMAX     89.0 2012-01-03\n",
       "3           RHMAX     89.0 2012-01-04\n",
       "4           RHMAX     95.0 2012-01-05\n",
       "...           ...      ...        ...\n",
       "4033        RHMIN     76.0 2018-12-27\n",
       "4034        RHMIN     73.0 2018-12-28\n",
       "4035        RHMIN     68.0 2018-12-29\n",
       "4036        RHMIN     55.0 2018-12-30\n",
       "4037        RHMIN     67.0 2018-12-31\n",
       "\n",
       "[4018 rows x 3 columns]"
      ]
     },
     "execution_count": 58,
     "metadata": {},
     "output_type": "execute_result"
    }
   ],
   "source": [
    "#Dropping the year, month, and day columns.\n",
    "df.drop(['year','month','day'],axis=1,inplace=True)\n",
    "df"
   ]
  },
  {
   "cell_type": "code",
   "execution_count": 59,
   "id": "10ec0a36",
   "metadata": {},
   "outputs": [
    {
     "data": {
      "text/html": [
       "<div>\n",
       "<style scoped>\n",
       "    .dataframe tbody tr th:only-of-type {\n",
       "        vertical-align: middle;\n",
       "    }\n",
       "\n",
       "    .dataframe tbody tr th {\n",
       "        vertical-align: top;\n",
       "    }\n",
       "\n",
       "    .dataframe thead th {\n",
       "        text-align: right;\n",
       "    }\n",
       "</style>\n",
       "<table border=\"1\" class=\"dataframe\">\n",
       "  <thead>\n",
       "    <tr style=\"text-align: right;\">\n",
       "      <th></th>\n",
       "      <th>element_name</th>\n",
       "      <th>obs_val</th>\n",
       "      <th>date</th>\n",
       "    </tr>\n",
       "  </thead>\n",
       "  <tbody>\n",
       "    <tr>\n",
       "      <th>1206</th>\n",
       "      <td>RHMAX</td>\n",
       "      <td>95.0</td>\n",
       "      <td>2015-04-01</td>\n",
       "    </tr>\n",
       "    <tr>\n",
       "      <th>1571</th>\n",
       "      <td>RHMIN</td>\n",
       "      <td>78.0</td>\n",
       "      <td>2015-04-01</td>\n",
       "    </tr>\n",
       "  </tbody>\n",
       "</table>\n",
       "</div>"
      ],
      "text/plain": [
       "     element_name  obs_val       date\n",
       "1206        RHMAX     95.0 2015-04-01\n",
       "1571        RHMIN     78.0 2015-04-01"
      ]
     },
     "execution_count": 59,
     "metadata": {},
     "output_type": "execute_result"
    }
   ],
   "source": [
    "df[df['date'] == '2015-04-01']"
   ]
  },
  {
   "cell_type": "markdown",
   "id": "8def1476",
   "metadata": {},
   "source": [
    "* For the same date there are 2 date values RHMAX andRHMIN so we would remove the RHMIN."
   ]
  },
  {
   "cell_type": "code",
   "execution_count": 61,
   "id": "91561f77",
   "metadata": {},
   "outputs": [
    {
     "data": {
      "text/html": [
       "<div>\n",
       "<style scoped>\n",
       "    .dataframe tbody tr th:only-of-type {\n",
       "        vertical-align: middle;\n",
       "    }\n",
       "\n",
       "    .dataframe tbody tr th {\n",
       "        vertical-align: top;\n",
       "    }\n",
       "\n",
       "    .dataframe thead th {\n",
       "        text-align: right;\n",
       "    }\n",
       "</style>\n",
       "<table border=\"1\" class=\"dataframe\">\n",
       "  <thead>\n",
       "    <tr style=\"text-align: right;\">\n",
       "      <th></th>\n",
       "      <th>element_name</th>\n",
       "      <th>obs_val</th>\n",
       "      <th>date</th>\n",
       "    </tr>\n",
       "  </thead>\n",
       "  <tbody>\n",
       "    <tr>\n",
       "      <th>0</th>\n",
       "      <td>RHMAX</td>\n",
       "      <td>91.0</td>\n",
       "      <td>2012-01-01</td>\n",
       "    </tr>\n",
       "    <tr>\n",
       "      <th>1</th>\n",
       "      <td>RHMAX</td>\n",
       "      <td>90.0</td>\n",
       "      <td>2012-01-02</td>\n",
       "    </tr>\n",
       "    <tr>\n",
       "      <th>2</th>\n",
       "      <td>RHMAX</td>\n",
       "      <td>89.0</td>\n",
       "      <td>2012-01-03</td>\n",
       "    </tr>\n",
       "    <tr>\n",
       "      <th>3</th>\n",
       "      <td>RHMAX</td>\n",
       "      <td>89.0</td>\n",
       "      <td>2012-01-04</td>\n",
       "    </tr>\n",
       "    <tr>\n",
       "      <th>4</th>\n",
       "      <td>RHMAX</td>\n",
       "      <td>95.0</td>\n",
       "      <td>2012-01-05</td>\n",
       "    </tr>\n",
       "    <tr>\n",
       "      <th>...</th>\n",
       "      <td>...</td>\n",
       "      <td>...</td>\n",
       "      <td>...</td>\n",
       "    </tr>\n",
       "    <tr>\n",
       "      <th>2937</th>\n",
       "      <td>RHMAX</td>\n",
       "      <td>90.0</td>\n",
       "      <td>2018-12-27</td>\n",
       "    </tr>\n",
       "    <tr>\n",
       "      <th>2938</th>\n",
       "      <td>RHMAX</td>\n",
       "      <td>88.0</td>\n",
       "      <td>2018-12-28</td>\n",
       "    </tr>\n",
       "    <tr>\n",
       "      <th>2939</th>\n",
       "      <td>RHMAX</td>\n",
       "      <td>76.0</td>\n",
       "      <td>2018-12-29</td>\n",
       "    </tr>\n",
       "    <tr>\n",
       "      <th>2940</th>\n",
       "      <td>RHMAX</td>\n",
       "      <td>81.0</td>\n",
       "      <td>2018-12-30</td>\n",
       "    </tr>\n",
       "    <tr>\n",
       "      <th>2941</th>\n",
       "      <td>RHMAX</td>\n",
       "      <td>82.0</td>\n",
       "      <td>2018-12-31</td>\n",
       "    </tr>\n",
       "  </tbody>\n",
       "</table>\n",
       "<p>2557 rows × 3 columns</p>\n",
       "</div>"
      ],
      "text/plain": [
       "     element_name  obs_val       date\n",
       "0           RHMAX     91.0 2012-01-01\n",
       "1           RHMAX     90.0 2012-01-02\n",
       "2           RHMAX     89.0 2012-01-03\n",
       "3           RHMAX     89.0 2012-01-04\n",
       "4           RHMAX     95.0 2012-01-05\n",
       "...           ...      ...        ...\n",
       "2937        RHMAX     90.0 2018-12-27\n",
       "2938        RHMAX     88.0 2018-12-28\n",
       "2939        RHMAX     76.0 2018-12-29\n",
       "2940        RHMAX     81.0 2018-12-30\n",
       "2941        RHMAX     82.0 2018-12-31\n",
       "\n",
       "[2557 rows x 3 columns]"
      ]
     },
     "execution_count": 61,
     "metadata": {},
     "output_type": "execute_result"
    }
   ],
   "source": [
    "#Dropping the RHMIN columns\n",
    "df = df.drop(df[df['element_name'] == 'RHMIN'].index)\n",
    "df"
   ]
  },
  {
   "cell_type": "code",
   "execution_count": 62,
   "id": "4b1b540c",
   "metadata": {},
   "outputs": [
    {
     "data": {
      "text/html": [
       "<div>\n",
       "<style scoped>\n",
       "    .dataframe tbody tr th:only-of-type {\n",
       "        vertical-align: middle;\n",
       "    }\n",
       "\n",
       "    .dataframe tbody tr th {\n",
       "        vertical-align: top;\n",
       "    }\n",
       "\n",
       "    .dataframe thead th {\n",
       "        text-align: right;\n",
       "    }\n",
       "</style>\n",
       "<table border=\"1\" class=\"dataframe\">\n",
       "  <thead>\n",
       "    <tr style=\"text-align: right;\">\n",
       "      <th></th>\n",
       "      <th>element_name</th>\n",
       "      <th>obs_val</th>\n",
       "      <th>date</th>\n",
       "    </tr>\n",
       "  </thead>\n",
       "  <tbody>\n",
       "    <tr>\n",
       "      <th>1206</th>\n",
       "      <td>RHMAX</td>\n",
       "      <td>95.0</td>\n",
       "      <td>2015-04-01</td>\n",
       "    </tr>\n",
       "  </tbody>\n",
       "</table>\n",
       "</div>"
      ],
      "text/plain": [
       "     element_name  obs_val       date\n",
       "1206        RHMAX     95.0 2015-04-01"
      ]
     },
     "execution_count": 62,
     "metadata": {},
     "output_type": "execute_result"
    }
   ],
   "source": [
    "df[df['date'] == '2015-04-01']"
   ]
  },
  {
   "cell_type": "code",
   "execution_count": 63,
   "id": "c0b4a4de",
   "metadata": {},
   "outputs": [],
   "source": [
    "df = df.set_index('date')"
   ]
  },
  {
   "cell_type": "code",
   "execution_count": 64,
   "id": "660d71ee",
   "metadata": {},
   "outputs": [
    {
     "name": "stdout",
     "output_type": "stream",
     "text": [
      "<class 'pandas.core.frame.DataFrame'>\n",
      "DatetimeIndex: 2557 entries, 2012-01-01 to 2018-12-31\n",
      "Data columns (total 2 columns):\n",
      " #   Column        Non-Null Count  Dtype  \n",
      "---  ------        --------------  -----  \n",
      " 0   element_name  2557 non-null   object \n",
      " 1   obs_val       2557 non-null   float64\n",
      "dtypes: float64(1), object(1)\n",
      "memory usage: 59.9+ KB\n"
     ]
    }
   ],
   "source": [
    "df.info()"
   ]
  },
  {
   "cell_type": "code",
   "execution_count": 65,
   "id": "67b816a5",
   "metadata": {},
   "outputs": [
    {
     "data": {
      "text/html": [
       "<div>\n",
       "<style scoped>\n",
       "    .dataframe tbody tr th:only-of-type {\n",
       "        vertical-align: middle;\n",
       "    }\n",
       "\n",
       "    .dataframe tbody tr th {\n",
       "        vertical-align: top;\n",
       "    }\n",
       "\n",
       "    .dataframe thead th {\n",
       "        text-align: right;\n",
       "    }\n",
       "</style>\n",
       "<table border=\"1\" class=\"dataframe\">\n",
       "  <thead>\n",
       "    <tr style=\"text-align: right;\">\n",
       "      <th></th>\n",
       "      <th>element_name</th>\n",
       "    </tr>\n",
       "    <tr>\n",
       "      <th>date</th>\n",
       "      <th></th>\n",
       "    </tr>\n",
       "  </thead>\n",
       "  <tbody>\n",
       "    <tr>\n",
       "      <th>2012-01-01</th>\n",
       "      <td>RHMAX</td>\n",
       "    </tr>\n",
       "    <tr>\n",
       "      <th>2012-01-02</th>\n",
       "      <td>RHMAX</td>\n",
       "    </tr>\n",
       "    <tr>\n",
       "      <th>2012-01-03</th>\n",
       "      <td>RHMAX</td>\n",
       "    </tr>\n",
       "    <tr>\n",
       "      <th>2012-01-04</th>\n",
       "      <td>RHMAX</td>\n",
       "    </tr>\n",
       "    <tr>\n",
       "      <th>2012-01-05</th>\n",
       "      <td>RHMAX</td>\n",
       "    </tr>\n",
       "  </tbody>\n",
       "</table>\n",
       "</div>"
      ],
      "text/plain": [
       "           element_name\n",
       "date                   \n",
       "2012-01-01        RHMAX\n",
       "2012-01-02        RHMAX\n",
       "2012-01-03        RHMAX\n",
       "2012-01-04        RHMAX\n",
       "2012-01-05        RHMAX"
      ]
     },
     "execution_count": 65,
     "metadata": {},
     "output_type": "execute_result"
    }
   ],
   "source": [
    "x = df.drop(['obs_val'], axis=1)\n",
    "x.head()"
   ]
  },
  {
   "cell_type": "code",
   "execution_count": 66,
   "id": "6c4d457c",
   "metadata": {},
   "outputs": [
    {
     "name": "stdout",
     "output_type": "stream",
     "text": [
      "date\n",
      "2012-01-01    91.0\n",
      "2012-01-02    90.0\n",
      "2012-01-03    89.0\n",
      "2012-01-04    89.0\n",
      "2012-01-05    95.0\n",
      "              ... \n",
      "2018-12-27    90.0\n",
      "2018-12-28    88.0\n",
      "2018-12-29    76.0\n",
      "2018-12-30    81.0\n",
      "2018-12-31    82.0\n",
      "Name: obs_val, Length: 2557, dtype: float64\n"
     ]
    }
   ],
   "source": [
    "y = df['obs_val']\n",
    "print(y)"
   ]
  },
  {
   "cell_type": "markdown",
   "id": "c3cbf46d",
   "metadata": {},
   "source": [
    "# Checking for data stationarity"
   ]
  },
  {
   "cell_type": "code",
   "execution_count": 67,
   "id": "7779191c",
   "metadata": {},
   "outputs": [],
   "source": [
    "#Checking for stationarity using the ADF test\n",
    "result = adfuller(df['obs_val'])"
   ]
  },
  {
   "cell_type": "code",
   "execution_count": 68,
   "id": "188b2bfe",
   "metadata": {},
   "outputs": [
    {
     "name": "stdout",
     "output_type": "stream",
     "text": [
      "ADF Statistic: -7.951976\n",
      "p-value: 0.000000\n",
      "Critical Values:\n",
      "\t1%: -3.433\n",
      "\t5%: -2.863\n",
      "\t10%: -2.567\n"
     ]
    }
   ],
   "source": [
    "# Print the ADF test results\n",
    "print('ADF Statistic: %f' % result[0])\n",
    "print('p-value: %f' % result[1])\n",
    "print('Critical Values:')\n",
    "for key, value in result[4].items():\n",
    "    print('\\t%s: %.3f' % (key, value))"
   ]
  },
  {
   "cell_type": "code",
   "execution_count": 69,
   "id": "6ea32a19",
   "metadata": {},
   "outputs": [
    {
     "data": {
      "image/png": "[encoded data removed]",
      "text/plain": [
       "<Figure size 640x480 with 1 Axes>"
      ]
     },
     "execution_count": 69,
     "metadata": {},
     "output_type": "execute_result"
    },
    {
     "data": {
      "image/png": "[encoded data removed]",
      "text/plain": [
       "<Figure size 640x480 with 1 Axes>"
      ]
     },
     "metadata": {},
     "output_type": "display_data"
    }
   ],
   "source": [
    "plot_acf(df['obs_val'])"
   ]
  },
  {
   "cell_type": "markdown",
   "id": "dd57b4ef",
   "metadata": {},
   "source": [
    "* This graph shows that the time series is not stationary so we need to difference it once."
   ]
  },
  {
   "cell_type": "code",
   "execution_count": 70,
   "id": "a389346b",
   "metadata": {},
   "outputs": [
    {
     "data": {
      "image/png": "[encoded data removed]",
      "text/plain": [
       "<Figure size 640x480 with 1 Axes>"
      ]
     },
     "execution_count": 70,
     "metadata": {},
     "output_type": "execute_result"
    },
    {
     "data": {
      "image/png": "[encoded data removed]",
      "text/plain": [
       "<Figure size 640x480 with 1 Axes>"
      ]
     },
     "metadata": {},
     "output_type": "display_data"
    }
   ],
   "source": [
    "plot_acf(df['obs_val'].diff().dropna())"
   ]
  },
  {
   "cell_type": "code",
   "execution_count": 71,
   "id": "e3f19602",
   "metadata": {},
   "outputs": [
    {
     "name": "stderr",
     "output_type": "stream",
     "text": [
      "C:\\Users\\binur\\anaconda3\\envs\\tfradeon\\lib\\site-packages\\statsmodels\\graphics\\tsaplots.py:348: FutureWarning: The default method 'yw' can produce PACF values outside of the [-1,1] interval. After 0.13, the default will change tounadjusted Yule-Walker ('ywm'). You can use this method now by setting method='ywm'.\n",
      "  warnings.warn(\n"
     ]
    },
    {
     "data": {
      "image/png": "[encoded data removed]",
      "text/plain": [
       "<Figure size 640x480 with 1 Axes>"
      ]
     },
     "execution_count": 71,
     "metadata": {},
     "output_type": "execute_result"
    },
    {
     "data": {
      "image/png": "[encoded data removed]",
      "text/plain": [
       "<Figure size 640x480 with 1 Axes>"
      ]
     },
     "metadata": {},
     "output_type": "display_data"
    }
   ],
   "source": [
    "plot_pacf(df['obs_val'])"
   ]
  },
  {
   "cell_type": "markdown",
   "id": "fde76ba2",
   "metadata": {},
   "source": [
    "# Checking for seasonality in data"
   ]
  },
  {
   "cell_type": "code",
   "execution_count": 72,
   "id": "a3c0f241",
   "metadata": {
    "scrolled": false
   },
   "outputs": [
    {
     "data": {
      "image/png": "[encoded data removed]",
      "text/plain": [
       "<Figure size 640x480 with 4 Axes>"
      ]
     },
     "metadata": {},
     "output_type": "display_data"
    }
   ],
   "source": [
    "# Perform seasonal decomposition using moving averages\n",
    "decomposition = seasonal_decompose(df['obs_val'], model='multiplicative', period=12)\n",
    "\n",
    "# Plot the seasonal decomposition\n",
    "fig = decomposition.plot()"
   ]
  },
  {
   "cell_type": "markdown",
   "id": "4faa9a90",
   "metadata": {},
   "source": [
    "* The seasonal component in the seasonal graph is flat so there is no seasonal component."
   ]
  },
  {
   "cell_type": "markdown",
   "id": "b6f2228c",
   "metadata": {},
   "source": [
    "# Checking for normality of the residuals"
   ]
  },
  {
   "cell_type": "code",
   "execution_count": 73,
   "id": "a534278e",
   "metadata": {},
   "outputs": [
    {
     "name": "stdout",
     "output_type": "stream",
     "text": [
      "Performing stepwise search to minimize aic\n",
      " ARIMA(2,0,2)(0,0,0)[0] intercept   : AIC=14873.008, Time=1.18 sec\n",
      " ARIMA(0,0,0)(0,0,0)[0] intercept   : AIC=16163.865, Time=0.07 sec\n",
      " ARIMA(1,0,0)(0,0,0)[0] intercept   : AIC=14928.154, Time=0.18 sec\n",
      " ARIMA(0,0,1)(0,0,0)[0] intercept   : AIC=15376.137, Time=0.29 sec\n",
      " ARIMA(0,0,0)(0,0,0)[0]             : AIC=30098.217, Time=0.04 sec\n",
      " ARIMA(1,0,2)(0,0,0)[0] intercept   : AIC=14865.026, Time=2.20 sec\n",
      " ARIMA(0,0,2)(0,0,0)[0] intercept   : AIC=15094.561, Time=0.62 sec\n",
      " ARIMA(1,0,1)(0,0,0)[0] intercept   : AIC=14870.516, Time=1.41 sec\n",
      " ARIMA(1,0,3)(0,0,0)[0] intercept   : AIC=14853.449, Time=2.17 sec\n",
      " ARIMA(0,0,3)(0,0,0)[0] intercept   : AIC=15002.144, Time=0.62 sec\n",
      " ARIMA(2,0,3)(0,0,0)[0] intercept   : AIC=14858.688, Time=1.59 sec\n",
      " ARIMA(1,0,4)(0,0,0)[0] intercept   : AIC=14847.599, Time=2.74 sec\n",
      " ARIMA(0,0,4)(0,0,0)[0] intercept   : AIC=14948.370, Time=0.94 sec\n",
      " ARIMA(2,0,4)(0,0,0)[0] intercept   : AIC=14851.410, Time=3.35 sec\n",
      " ARIMA(1,0,5)(0,0,0)[0] intercept   : AIC=14855.349, Time=3.27 sec\n",
      " ARIMA(0,0,5)(0,0,0)[0] intercept   : AIC=14939.997, Time=1.03 sec\n",
      " ARIMA(2,0,5)(0,0,0)[0] intercept   : AIC=14849.962, Time=4.02 sec\n",
      " ARIMA(1,0,4)(0,0,0)[0]             : AIC=14897.518, Time=0.30 sec\n",
      "\n",
      "Best model:  ARIMA(1,0,4)(0,0,0)[0] intercept\n",
      "Total fit time: 26.025 seconds\n"
     ]
    }
   ],
   "source": [
    "#Finding the optimum values for p,d, and q\n",
    "opt_vals = pm.auto_arima(df['obs_val'], trace=True,suppress_warnings=True)"
   ]
  },
  {
   "cell_type": "markdown",
   "id": "5c08e0b4",
   "metadata": {},
   "source": [
    "* The optimum values for p=1, d=0, and q=4."
   ]
  },
  {
   "cell_type": "code",
   "execution_count": 74,
   "id": "c73007f3",
   "metadata": {},
   "outputs": [],
   "source": [
    "#Splitting the dataset into training and testing\n",
    "train, test = train_test_split(df, test_size=0.2, shuffle=False)"
   ]
  },
  {
   "cell_type": "code",
   "execution_count": 75,
   "id": "6a89487a",
   "metadata": {},
   "outputs": [
    {
     "name": "stderr",
     "output_type": "stream",
     "text": [
      "C:\\Users\\binur\\anaconda3\\envs\\tfradeon\\lib\\site-packages\\statsmodels\\tsa\\base\\tsa_model.py:471: ValueWarning: No frequency information was provided, so inferred frequency D will be used.\n",
      "  self._init_dates(dates, freq)\n",
      "C:\\Users\\binur\\anaconda3\\envs\\tfradeon\\lib\\site-packages\\statsmodels\\tsa\\base\\tsa_model.py:471: ValueWarning: No frequency information was provided, so inferred frequency D will be used.\n",
      "  self._init_dates(dates, freq)\n",
      "C:\\Users\\binur\\anaconda3\\envs\\tfradeon\\lib\\site-packages\\statsmodels\\tsa\\base\\tsa_model.py:471: ValueWarning: No frequency information was provided, so inferred frequency D will be used.\n",
      "  self._init_dates(dates, freq)\n",
      "C:\\Users\\binur\\anaconda3\\envs\\tfradeon\\lib\\site-packages\\statsmodels\\base\\model.py:604: ConvergenceWarning: Maximum Likelihood optimization failed to converge. Check mle_retvals\n",
      "  warnings.warn(\"Maximum Likelihood optimization failed to \"\n"
     ]
    }
   ],
   "source": [
    "#Fitting the ARIMA model\n",
    "model = ARIMA(df['obs_val'], order=(8,0,30)) #obtained from the graph\n",
    "model_fit = model.fit()"
   ]
  },
  {
   "cell_type": "code",
   "execution_count": 76,
   "id": "01c182dc",
   "metadata": {},
   "outputs": [
    {
     "name": "stdout",
     "output_type": "stream",
     "text": [
      "                               SARIMAX Results                                \n",
      "==============================================================================\n",
      "Dep. Variable:                obs_val   No. Observations:                 2557\n",
      "Model:                ARIMA(8, 0, 30)   Log Likelihood               -7392.743\n",
      "Date:                Fri, 05 May 2023   AIC                          14865.485\n",
      "Time:                        10:45:00   BIC                          15099.349\n",
      "Sample:                    01-01-2012   HQIC                         14950.291\n",
      "                         - 12-31-2018                                         \n",
      "Covariance Type:                  opg                                         \n",
      "==============================================================================\n",
      "                 coef    std err          z      P>|z|      [0.025      0.975]\n",
      "------------------------------------------------------------------------------\n",
      "const         86.8355      0.472    183.871      0.000      85.910      87.761\n",
      "ar.L1          0.5233      4.159      0.126      0.900      -7.627       8.674\n",
      "ar.L2          0.3699      3.934      0.094      0.925      -7.340       8.080\n",
      "ar.L3          0.2604      0.406      0.641      0.521      -0.535       1.056\n",
      "ar.L4         -0.0637      0.906     -0.070      0.944      -1.840       1.713\n",
      "ar.L5         -0.4547      0.539     -0.843      0.399      -1.511       0.602\n",
      "ar.L6         -0.5012      1.842     -0.272      0.786      -4.111       3.109\n",
      "ar.L7          0.4681      1.220      0.384      0.701      -1.923       2.860\n",
      "ar.L8          0.2552      2.459      0.104      0.917      -4.564       5.074\n",
      "ma.L1         -0.0132      4.158     -0.003      0.997      -8.163       8.137\n",
      "ma.L2         -0.2745      1.823     -0.151      0.880      -3.847       3.298\n",
      "ma.L3         -0.3984      0.597     -0.667      0.505      -1.569       0.772\n",
      "ma.L4         -0.1358      1.307     -0.104      0.917      -2.698       2.427\n",
      "ma.L5          0.3387      0.229      1.480      0.139      -0.110       0.787\n",
      "ma.L6          0.7126      1.565      0.455      0.649      -2.354       3.779\n",
      "ma.L7         -0.0836      2.240     -0.037      0.970      -4.475       4.307\n",
      "ma.L8         -0.2508      1.313     -0.191      0.849      -2.824       2.323\n",
      "ma.L9         -0.1417      0.496     -0.286      0.775      -1.114       0.830\n",
      "ma.L10        -0.0647      0.373     -0.173      0.862      -0.796       0.667\n",
      "ma.L11        -0.0158      0.120     -0.131      0.896      -0.252       0.220\n",
      "ma.L12         0.0562      0.031      1.795      0.073      -0.005       0.118\n",
      "ma.L13        -0.0253      0.234     -0.108      0.914      -0.485       0.434\n",
      "ma.L14        -0.0570      0.211     -0.270      0.787      -0.470       0.356\n",
      "ma.L15        -0.0535      0.160     -0.335      0.738      -0.367       0.260\n",
      "ma.L16        -0.0103      0.151     -0.068      0.946      -0.306       0.286\n",
      "ma.L17         0.0620      0.035      1.777      0.075      -0.006       0.130\n",
      "ma.L18         0.0732      0.256      0.286      0.775      -0.428       0.574\n",
      "ma.L19         0.0010      0.193      0.005      0.996      -0.377       0.379\n",
      "ma.L20        -0.0700      0.093     -0.753      0.451      -0.252       0.112\n",
      "ma.L21        -0.0528      0.256     -0.206      0.837      -0.555       0.449\n",
      "ma.L22         0.0093      0.112      0.083      0.934      -0.211       0.229\n",
      "ma.L23         0.0349      0.099      0.353      0.724      -0.159       0.229\n",
      "ma.L24         0.0740      0.106      0.697      0.486      -0.134       0.282\n",
      "ma.L25        -0.0183      0.251     -0.073      0.942      -0.510       0.473\n",
      "ma.L26        -0.0136      0.194     -0.070      0.944      -0.394       0.367\n",
      "ma.L27        -0.0156      0.039     -0.397      0.692      -0.093       0.062\n",
      "ma.L28         0.0487      0.062      0.790      0.429      -0.072       0.170\n",
      "ma.L29         0.0225      0.221      0.102      0.919      -0.411       0.456\n",
      "ma.L30         0.0081      0.035      0.230      0.818      -0.061       0.077\n",
      "sigma2        19.1674      0.446     42.991      0.000      18.294      20.041\n",
      "===================================================================================\n",
      "Ljung-Box (L1) (Q):                   0.00   Jarque-Bera (JB):               286.25\n",
      "Prob(Q):                              0.96   Prob(JB):                         0.00\n",
      "Heteroskedasticity (H):               1.03   Skew:                            -0.30\n",
      "Prob(H) (two-sided):                  0.63   Kurtosis:                         4.52\n",
      "===================================================================================\n",
      "\n",
      "Warnings:\n",
      "[1] Covariance matrix calculated using the outer product of gradients (complex-step).\n"
     ]
    }
   ],
   "source": [
    "print(model_fit.summary())"
   ]
  },
  {
   "cell_type": "code",
   "execution_count": 77,
   "id": "a868c865",
   "metadata": {},
   "outputs": [
    {
     "name": "stdout",
     "output_type": "stream",
     "text": [
      "date\n",
      "2012-01-01     4.164516\n",
      "2012-01-02     0.587176\n",
      "2012-01-03    -0.098816\n",
      "2012-01-04     0.481763\n",
      "2012-01-05     6.500870\n",
      "                ...    \n",
      "2018-12-27    -0.504660\n",
      "2018-12-28    -1.456292\n",
      "2018-12-29   -12.371039\n",
      "2018-12-30    -0.644752\n",
      "2018-12-31    -1.466285\n",
      "Length: 2557, dtype: float64\n"
     ]
    }
   ],
   "source": [
    "#obtaining residuals\n",
    "residuals = model_fit.resid\n",
    "print(residuals)"
   ]
  },
  {
   "cell_type": "code",
   "execution_count": 78,
   "id": "89b2209a",
   "metadata": {},
   "outputs": [
    {
     "data": {
      "image/png": "[encoded data removed]",
      "text/plain": [
       "<Figure size 640x480 with 2 Axes>"
      ]
     },
     "metadata": {},
     "output_type": "display_data"
    }
   ],
   "source": [
    "#Checking whether the residuals are normally distributed\n",
    "residuals = pd.DataFrame(model_fit.resid)\n",
    "fig, ax = plt.subplots(1,2)\n",
    "residuals.plot(title=\"Residuals\", ax=ax[0])\n",
    "residuals.plot(kind='kde', title='Density', ax=ax[1])\n",
    "plt.show()"
   ]
  },
  {
   "cell_type": "markdown",
   "id": "959ac263",
   "metadata": {},
   "source": [
    "* The residuals are normally distributed."
   ]
  },
  {
   "cell_type": "code",
   "execution_count": 79,
   "id": "ad07a5f0",
   "metadata": {},
   "outputs": [],
   "source": [
    "#Making predictions\n",
    "#n = 30\n",
    "#forecast = model_fit.predict(start=len(train), end=len(train)+804-1)\n",
    "#forecast"
   ]
  },
  {
   "cell_type": "code",
   "execution_count": 80,
   "id": "5f2f482f",
   "metadata": {},
   "outputs": [],
   "source": [
    "#Making predictions for the next 6 years\n",
    "#n=365\n",
    "start_date = '2019-01-01'\n",
    "end_date = '2025-01-01'\n",
    "date_range = pd.date_range(start=start_date, end=end_date)\n",
    "future_preds = model_fit.forecast(steps=len(date_range))\n",
    "future_preds.index = date_range"
   ]
  },
  {
   "cell_type": "code",
   "execution_count": 81,
   "id": "63a0a7be",
   "metadata": {},
   "outputs": [
    {
     "data": {
      "text/plain": [
       "2019-01-01    83.379585\n",
       "2019-01-02    84.584591\n",
       "2019-01-03    85.097468\n",
       "2019-01-04    85.277394\n",
       "2019-01-05    85.749084\n",
       "                ...    \n",
       "2024-12-28    86.835484\n",
       "2024-12-29    86.835484\n",
       "2024-12-30    86.835484\n",
       "2024-12-31    86.835484\n",
       "2025-01-01    86.835484\n",
       "Freq: D, Name: predicted_mean, Length: 2193, dtype: float64"
      ]
     },
     "execution_count": 81,
     "metadata": {},
     "output_type": "execute_result"
    }
   ],
   "source": [
    "future_preds"
   ]
  },
  {
   "cell_type": "code",
   "execution_count": 82,
   "id": "7db7051e",
   "metadata": {
    "scrolled": true
   },
   "outputs": [
    {
     "data": {
      "text/html": [
       "<div>\n",
       "<style scoped>\n",
       "    .dataframe tbody tr th:only-of-type {\n",
       "        vertical-align: middle;\n",
       "    }\n",
       "\n",
       "    .dataframe tbody tr th {\n",
       "        vertical-align: top;\n",
       "    }\n",
       "\n",
       "    .dataframe thead th {\n",
       "        text-align: right;\n",
       "    }\n",
       "</style>\n",
       "<table border=\"1\" class=\"dataframe\">\n",
       "  <thead>\n",
       "    <tr style=\"text-align: right;\">\n",
       "      <th></th>\n",
       "      <th>index</th>\n",
       "      <th>predicted_mean</th>\n",
       "    </tr>\n",
       "  </thead>\n",
       "  <tbody>\n",
       "    <tr>\n",
       "      <th>0</th>\n",
       "      <td>2019-01-01</td>\n",
       "      <td>83.379585</td>\n",
       "    </tr>\n",
       "    <tr>\n",
       "      <th>1</th>\n",
       "      <td>2019-01-02</td>\n",
       "      <td>84.584591</td>\n",
       "    </tr>\n",
       "    <tr>\n",
       "      <th>2</th>\n",
       "      <td>2019-01-03</td>\n",
       "      <td>85.097468</td>\n",
       "    </tr>\n",
       "    <tr>\n",
       "      <th>3</th>\n",
       "      <td>2019-01-04</td>\n",
       "      <td>85.277394</td>\n",
       "    </tr>\n",
       "    <tr>\n",
       "      <th>4</th>\n",
       "      <td>2019-01-05</td>\n",
       "      <td>85.749084</td>\n",
       "    </tr>\n",
       "    <tr>\n",
       "      <th>...</th>\n",
       "      <td>...</td>\n",
       "      <td>...</td>\n",
       "    </tr>\n",
       "    <tr>\n",
       "      <th>2188</th>\n",
       "      <td>2024-12-28</td>\n",
       "      <td>86.835484</td>\n",
       "    </tr>\n",
       "    <tr>\n",
       "      <th>2189</th>\n",
       "      <td>2024-12-29</td>\n",
       "      <td>86.835484</td>\n",
       "    </tr>\n",
       "    <tr>\n",
       "      <th>2190</th>\n",
       "      <td>2024-12-30</td>\n",
       "      <td>86.835484</td>\n",
       "    </tr>\n",
       "    <tr>\n",
       "      <th>2191</th>\n",
       "      <td>2024-12-31</td>\n",
       "      <td>86.835484</td>\n",
       "    </tr>\n",
       "    <tr>\n",
       "      <th>2192</th>\n",
       "      <td>2025-01-01</td>\n",
       "      <td>86.835484</td>\n",
       "    </tr>\n",
       "  </tbody>\n",
       "</table>\n",
       "<p>2193 rows × 2 columns</p>\n",
       "</div>"
      ],
      "text/plain": [
       "          index  predicted_mean\n",
       "0    2019-01-01       83.379585\n",
       "1    2019-01-02       84.584591\n",
       "2    2019-01-03       85.097468\n",
       "3    2019-01-04       85.277394\n",
       "4    2019-01-05       85.749084\n",
       "...         ...             ...\n",
       "2188 2024-12-28       86.835484\n",
       "2189 2024-12-29       86.835484\n",
       "2190 2024-12-30       86.835484\n",
       "2191 2024-12-31       86.835484\n",
       "2192 2025-01-01       86.835484\n",
       "\n",
       "[2193 rows x 2 columns]"
      ]
     },
     "execution_count": 82,
     "metadata": {},
     "output_type": "execute_result"
    }
   ],
   "source": [
    "#Storing the future predicted data in a dataframe\n",
    "data = pd.DataFrame(future_preds).reset_index()\n",
    "data"
   ]
  },
  {
   "cell_type": "code",
   "execution_count": 83,
   "id": "895ff166",
   "metadata": {},
   "outputs": [
    {
     "data": {
      "text/html": [
       "<div>\n",
       "<style scoped>\n",
       "    .dataframe tbody tr th:only-of-type {\n",
       "        vertical-align: middle;\n",
       "    }\n",
       "\n",
       "    .dataframe tbody tr th {\n",
       "        vertical-align: top;\n",
       "    }\n",
       "\n",
       "    .dataframe thead th {\n",
       "        text-align: right;\n",
       "    }\n",
       "</style>\n",
       "<table border=\"1\" class=\"dataframe\">\n",
       "  <thead>\n",
       "    <tr style=\"text-align: right;\">\n",
       "      <th></th>\n",
       "      <th>index</th>\n",
       "      <th>predicted_mean</th>\n",
       "    </tr>\n",
       "  </thead>\n",
       "  <tbody>\n",
       "    <tr>\n",
       "      <th>1220</th>\n",
       "      <td>2022-05-05</td>\n",
       "      <td>86.835484</td>\n",
       "    </tr>\n",
       "    <tr>\n",
       "      <th>1221</th>\n",
       "      <td>2022-05-06</td>\n",
       "      <td>86.835484</td>\n",
       "    </tr>\n",
       "    <tr>\n",
       "      <th>1222</th>\n",
       "      <td>2022-05-07</td>\n",
       "      <td>86.835484</td>\n",
       "    </tr>\n",
       "    <tr>\n",
       "      <th>1223</th>\n",
       "      <td>2022-05-08</td>\n",
       "      <td>86.835484</td>\n",
       "    </tr>\n",
       "    <tr>\n",
       "      <th>1224</th>\n",
       "      <td>2022-05-09</td>\n",
       "      <td>86.835484</td>\n",
       "    </tr>\n",
       "    <tr>\n",
       "      <th>...</th>\n",
       "      <td>...</td>\n",
       "      <td>...</td>\n",
       "    </tr>\n",
       "    <tr>\n",
       "      <th>1581</th>\n",
       "      <td>2023-05-01</td>\n",
       "      <td>86.835484</td>\n",
       "    </tr>\n",
       "    <tr>\n",
       "      <th>1582</th>\n",
       "      <td>2023-05-02</td>\n",
       "      <td>86.835484</td>\n",
       "    </tr>\n",
       "    <tr>\n",
       "      <th>1583</th>\n",
       "      <td>2023-05-03</td>\n",
       "      <td>86.835484</td>\n",
       "    </tr>\n",
       "    <tr>\n",
       "      <th>1584</th>\n",
       "      <td>2023-05-04</td>\n",
       "      <td>86.835484</td>\n",
       "    </tr>\n",
       "    <tr>\n",
       "      <th>1585</th>\n",
       "      <td>2023-05-05</td>\n",
       "      <td>86.835484</td>\n",
       "    </tr>\n",
       "  </tbody>\n",
       "</table>\n",
       "<p>366 rows × 2 columns</p>\n",
       "</div>"
      ],
      "text/plain": [
       "          index  predicted_mean\n",
       "1220 2022-05-05       86.835484\n",
       "1221 2022-05-06       86.835484\n",
       "1222 2022-05-07       86.835484\n",
       "1223 2022-05-08       86.835484\n",
       "1224 2022-05-09       86.835484\n",
       "...         ...             ...\n",
       "1581 2023-05-01       86.835484\n",
       "1582 2023-05-02       86.835484\n",
       "1583 2023-05-03       86.835484\n",
       "1584 2023-05-04       86.835484\n",
       "1585 2023-05-05       86.835484\n",
       "\n",
       "[366 rows x 2 columns]"
      ]
     },
     "execution_count": 83,
     "metadata": {},
     "output_type": "execute_result"
    }
   ],
   "source": [
    "#Extracting the past data for 12 months from 2022-05-05 to 2023-05-05\n",
    "data_past = data[(data['index'] >= '2022-05-05') & (data['index'] <= '2023-05-05')]\n",
    "data_past"
   ]
  },
  {
   "cell_type": "code",
   "execution_count": 84,
   "id": "affdec4a",
   "metadata": {},
   "outputs": [],
   "source": [
    "#Exporting the past data for 12 months from 2022-05-05 to 2023-05-05\n",
    "data_past.to_csv('Past_data.csv',index=False)"
   ]
  },
  {
   "cell_type": "code",
   "execution_count": 85,
   "id": "29b1e830",
   "metadata": {},
   "outputs": [
    {
     "data": {
      "text/html": [
       "<div>\n",
       "<style scoped>\n",
       "    .dataframe tbody tr th:only-of-type {\n",
       "        vertical-align: middle;\n",
       "    }\n",
       "\n",
       "    .dataframe tbody tr th {\n",
       "        vertical-align: top;\n",
       "    }\n",
       "\n",
       "    .dataframe thead th {\n",
       "        text-align: right;\n",
       "    }\n",
       "</style>\n",
       "<table border=\"1\" class=\"dataframe\">\n",
       "  <thead>\n",
       "    <tr style=\"text-align: right;\">\n",
       "      <th></th>\n",
       "      <th>index</th>\n",
       "      <th>predicted_mean</th>\n",
       "    </tr>\n",
       "  </thead>\n",
       "  <tbody>\n",
       "    <tr>\n",
       "      <th>1585</th>\n",
       "      <td>2023-05-05</td>\n",
       "      <td>86.835484</td>\n",
       "    </tr>\n",
       "    <tr>\n",
       "      <th>1586</th>\n",
       "      <td>2023-05-06</td>\n",
       "      <td>86.835484</td>\n",
       "    </tr>\n",
       "    <tr>\n",
       "      <th>1587</th>\n",
       "      <td>2023-05-07</td>\n",
       "      <td>86.835484</td>\n",
       "    </tr>\n",
       "    <tr>\n",
       "      <th>1588</th>\n",
       "      <td>2023-05-08</td>\n",
       "      <td>86.835484</td>\n",
       "    </tr>\n",
       "    <tr>\n",
       "      <th>1589</th>\n",
       "      <td>2023-05-09</td>\n",
       "      <td>86.835484</td>\n",
       "    </tr>\n",
       "    <tr>\n",
       "      <th>...</th>\n",
       "      <td>...</td>\n",
       "      <td>...</td>\n",
       "    </tr>\n",
       "    <tr>\n",
       "      <th>1947</th>\n",
       "      <td>2024-05-01</td>\n",
       "      <td>86.835484</td>\n",
       "    </tr>\n",
       "    <tr>\n",
       "      <th>1948</th>\n",
       "      <td>2024-05-02</td>\n",
       "      <td>86.835484</td>\n",
       "    </tr>\n",
       "    <tr>\n",
       "      <th>1949</th>\n",
       "      <td>2024-05-03</td>\n",
       "      <td>86.835484</td>\n",
       "    </tr>\n",
       "    <tr>\n",
       "      <th>1950</th>\n",
       "      <td>2024-05-04</td>\n",
       "      <td>86.835484</td>\n",
       "    </tr>\n",
       "    <tr>\n",
       "      <th>1951</th>\n",
       "      <td>2024-05-05</td>\n",
       "      <td>86.835484</td>\n",
       "    </tr>\n",
       "  </tbody>\n",
       "</table>\n",
       "<p>367 rows × 2 columns</p>\n",
       "</div>"
      ],
      "text/plain": [
       "          index  predicted_mean\n",
       "1585 2023-05-05       86.835484\n",
       "1586 2023-05-06       86.835484\n",
       "1587 2023-05-07       86.835484\n",
       "1588 2023-05-08       86.835484\n",
       "1589 2023-05-09       86.835484\n",
       "...         ...             ...\n",
       "1947 2024-05-01       86.835484\n",
       "1948 2024-05-02       86.835484\n",
       "1949 2024-05-03       86.835484\n",
       "1950 2024-05-04       86.835484\n",
       "1951 2024-05-05       86.835484\n",
       "\n",
       "[367 rows x 2 columns]"
      ]
     },
     "execution_count": 85,
     "metadata": {},
     "output_type": "execute_result"
    }
   ],
   "source": [
    "#Extracting the future data for 12 months from 2023-05-05 to 2024-05-05\n",
    "data_future = data[(data['index'] >= '2023-05-05') & (data['index'] <= '2024-05-05')]\n",
    "data_future"
   ]
  },
  {
   "cell_type": "code",
   "execution_count": 86,
   "id": "7a7f3940",
   "metadata": {},
   "outputs": [],
   "source": [
    "#Exporting the dataframe to a csv file\n",
    "data_future.to_csv('Future_data.csv',index=False)"
   ]
  },
  {
   "cell_type": "code",
   "execution_count": 87,
   "id": "8ce1ff42",
   "metadata": {},
   "outputs": [
    {
     "data": {
      "image/png": "[encoded data removed]",
      "text/plain": [
       "<Figure size 640x480 with 1 Axes>"
      ]
     },
     "metadata": {},
     "output_type": "display_data"
    }
   ],
   "source": [
    "#Plotting the data for next 12 months\n",
    "#plt.plot(test.index, test['obs_val'],label='actual') #Actual values\n",
    "plt.plot(future_preds.index, future_preds.values, label='predicted') #Predicted values\n",
    "plt.title('ARIMA Model Forecast')\n",
    "plt.xlabel('Date')\n",
    "plt.ylabel('Value')\n",
    "plt.legend()\n",
    "plt.show()"
   ]
  },
  {
   "cell_type": "code",
   "execution_count": null,
   "id": "146ac714",
   "metadata": {},
   "outputs": [],
   "source": []
  }
 ],
 "metadata": {
  "kernelspec": {
   "display_name": "Python 3 (ipykernel)",
   "language": "python",
   "name": "python3"
  },
  "language_info": {
   "codemirror_mode": {
    "name": "ipython",
    "version": 3
   },
   "file_extension": ".py",
   "mimetype": "text/x-python",
   "name": "python",
   "nbconvert_exporter": "python",
   "pygments_lexer": "ipython3",
   "version": "3.10.11"
  }
 },
 "nbformat": 4,
 "nbformat_minor": 5
}
